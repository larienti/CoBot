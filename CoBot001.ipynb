{
 "cells": [
  {
   "cell_type": "code",
   "execution_count": null,
   "metadata": {},
   "outputs": [],
   "source": []
  },
  {
   "cell_type": "code",
   "execution_count": null,
   "metadata": {},
   "outputs": [],
   "source": [
    "\n",
    "#Import all necessary modules \n",
    "import requests \n",
    "import json \n",
    "import time \n",
    "#Provide Coinbase Pro API Keys \n",
    "API_KEY = 'P6EtCw38v59bEFub' \n",
    "SECRET_KEY = '4rZLr3AnfGaspEtxEE5xjf7xP6xlTVYb' \n",
    "#Base URL for Coinbase Pro \n",
    "BASE_URL = 'https://api.pro.coinbase.com/' \n",
    "#Function to get current market prices \n",
    "def get_price(pair): url = BASE_URL + 'products/' + pair + '/ticker' \n",
    "    response = requests.get(url) data = json.loads(response.text) \n",
    "    return data['price'] \n",
    "#Function to place buy orders\n",
    "def buy_order(pair, size, price): \n",
    "    url = BASE_URL + 'orders' \n",
    "    payload = { 'size': size, 'price': price, 'side': 'buy', 'product_id': pair } \n",
    "headers = { 'Content-Type': 'application/json', 'CB-ACCESS-KEY': API_KEY, 'CB-ACCESS-SIGN': SECRET\n",
    "        "
   ]
  }
 ],
 "metadata": {
  "kernelspec": {
   "display_name": "Python 3",
   "language": "python",
   "name": "python3"
  },
  "language_info": {
   "codemirror_mode": {
    "name": "ipython",
    "version": 3
   },
   "file_extension": ".py",
   "mimetype": "text/x-python",
   "name": "python",
   "nbconvert_exporter": "python",
   "pygments_lexer": "ipython3",
   "version": "3.7.0"
  }
 },
 "nbformat": 4,
 "nbformat_minor": 4
}
